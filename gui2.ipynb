{
 "cells": [
  {
   "cell_type": "code",
   "execution_count": 1,
   "metadata": {},
   "outputs": [
    {
     "name": "stdout",
     "output_type": "stream",
     "text": [
      "WARNING:tensorflow:From c:\\Users\\DONG PHUONG\\anaconda3\\envs\\notebook\\Lib\\site-packages\\keras\\src\\losses.py:2976: The name tf.losses.sparse_softmax_cross_entropy is deprecated. Please use tf.compat.v1.losses.sparse_softmax_cross_entropy instead.\n",
      "\n",
      "WARNING:tensorflow:From c:\\Users\\DONG PHUONG\\anaconda3\\envs\\notebook\\Lib\\site-packages\\keras\\src\\backend.py:1398: The name tf.executing_eagerly_outside_functions is deprecated. Please use tf.compat.v1.executing_eagerly_outside_functions instead.\n",
      "\n",
      "WARNING:tensorflow:From c:\\Users\\DONG PHUONG\\anaconda3\\envs\\notebook\\Lib\\site-packages\\keras\\src\\layers\\pooling\\max_pooling2d.py:161: The name tf.nn.max_pool is deprecated. Please use tf.nn.max_pool2d instead.\n",
      "\n"
     ]
    }
   ],
   "source": [
    "import tkinter as tk\n",
    "from tkinter import filedialog\n",
    "from PIL import ImageTk, Image\n",
    "import numpy as np\n",
    "import tensorflow as tf\n",
    "from tensorflow.keras.models import load_model\n",
    "\n",
    "# Load mô hình từ file 'model1.h5'\n",
    "model = load_model('model2.h5')\n",
    "\n",
    "def open_image():\n",
    "    file_path = filedialog.askopenfilename(filetypes=[('Image Files', ['.jpg', '.jpeg', '.png', '.gif'])])\n",
    "    if file_path:\n",
    "        process_image(file_path)\n",
    "\n",
    "def process_image(image_path):\n",
    "    image = Image.open(image_path)\n",
    "    image = image.resize((180, 180))  # Resize ảnh để phù hợp với mô hình\n",
    "    image = np.array(image) / 255.0  # Chuẩn hóa pixel về [0,1]\n",
    "    image = np.expand_dims(image, axis=0)  # Thêm chiều batch\n",
    "\n",
    "    # Dự đoán từ mô hình\n",
    "    predictions = model.predict(image)\n",
    "    predicted_class = np.argmax(predictions)\n",
    "\n",
    "    # Hiển thị kết quả dự đoán\n",
    "    if predicted_class == 0:\n",
    "        result_label.config(text=\"Dự đoán: Class 0\")\n",
    "    elif predicted_class == 1:\n",
    "        result_label.config(text=\"Dự đoán: Class 1\")\n",
    "    # Các điều kiện tiếp theo tương ứng với các class khác\n",
    "\n",
    "# Tạo cửa sổ Tkinter\n",
    "window = tk.Tk()\n",
    "window.title(\"Image Prediction\")\n",
    "window.geometry(\"400x200\")\n",
    "\n",
    "# Label và Button\n",
    "label = tk.Label(window, text=\"Chọn ảnh để dự đoán\", font=(\"Arial\", 12))\n",
    "label.pack()\n",
    "\n",
    "open_button = tk.Button(window, text=\"Chọn ảnh\", command=open_image)\n",
    "open_button.pack()\n",
    "\n",
    "result_label = tk.Label(window, text=\"\")\n",
    "result_label.pack()\n",
    "\n",
    "# Chạy giao diện người dùng\n",
    "window.mainloop()\n"
   ]
  }
 ],
 "metadata": {
  "kernelspec": {
   "display_name": "notebook",
   "language": "python",
   "name": "python3"
  },
  "language_info": {
   "codemirror_mode": {
    "name": "ipython",
    "version": 3
   },
   "file_extension": ".py",
   "mimetype": "text/x-python",
   "name": "python",
   "nbconvert_exporter": "python",
   "pygments_lexer": "ipython3",
   "version": "3.11.5"
  }
 },
 "nbformat": 4,
 "nbformat_minor": 2
}
